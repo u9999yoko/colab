{
  "cells": [
    {
      "cell_type": "markdown",
      "metadata": {
        "id": "8N952CPwgINu"
      },
      "source": [
        "# 3-1. 辞書 (dictionary)\n",
        "キーと値を対応させるデータ構造である辞書について説明します。\n",
        "\n",
        "参考\n",
        "\n",
        "- https://docs.python.org/ja/3/tutorial/datastructures.html#dictionaries\n",
        "\n",
        "**辞書**は、**キー** (**key**) と**値** (**value**) を対応づけるデータです。\n",
        "キーとしては、文字列・数値・タプルなどの変更不可能なデータを使うことができますが、\n",
        "変更可能なデータであるリスト・辞書を使うことはできません。\n",
        "（辞書も変更可能なデータです。）\n",
        "一方、値としては、変更の可否にかかわらずあらゆる種類のデータを指定できます。\n",
        "\n",
        "たとえば、文字列 `'apple'` をキーとし値として数値 `3` を、`'pen'` をキーとして `5` を対応付けた辞書は、\n",
        "次のように作成します。"
      ]
    },
    {
      "cell_type": "code",
      "execution_count": null,
      "metadata": {
        "id": "q0Y356DsgINx"
      },
      "outputs": [],
      "source": [
        "ppap = {'apple' : 3, 'pen' : 5}\n",
        "ppap"
      ]
    },
    {
      "cell_type": "code",
      "execution_count": null,
      "metadata": {
        "id": "8loSQUzagINx"
      },
      "outputs": [],
      "source": [
        "type(ppap)"
      ]
    },
    {
      "cell_type": "markdown",
      "metadata": {
        "id": "3kA4LQxtgINx"
      },
      "source": [
        "辞書の `キー1` に対応する値を得るには、リストにおけるインデックスと同様に、\n",
        "\n",
        "---\n",
        "```Python\n",
        " 辞書[キー1]\n",
        "```\n",
        "---\n",
        "\n",
        "とします。"
      ]
    },
    {
      "cell_type": "code",
      "execution_count": null,
      "metadata": {
        "id": "dr87GD99gINy"
      },
      "outputs": [],
      "source": [
        "ppap = {'apple' : 3, 'pen' : 5}\n",
        "ppap['apple']"
      ]
    },
    {
      "cell_type": "markdown",
      "metadata": {
        "id": "87zO_mhggINy"
      },
      "source": [
        "辞書に登録されていないキーを指定すると、エラーになります。"
      ]
    },
    {
      "cell_type": "code",
      "execution_count": null,
      "metadata": {
        "tags": [
          "raises-exception"
        ],
        "id": "q8oZ0a5SgINy"
      },
      "outputs": [],
      "source": [
        "ppap['orange']"
      ]
    },
    {
      "cell_type": "markdown",
      "metadata": {
        "id": "JyGEUR4XgINy"
      },
      "source": [
        "キーに対する値を変更したり、新たなキーと値を登録するには代入文を用います。"
      ]
    },
    {
      "cell_type": "code",
      "execution_count": null,
      "metadata": {
        "id": "Nd8rC6NtgINy"
      },
      "outputs": [],
      "source": [
        "ppap = {'apple' : 3, 'pen' : 5}\n",
        "ppap['apple'] = 10\n",
        "ppap['pinapple'] = 7\n",
        "ppap"
      ]
    },
    {
      "cell_type": "markdown",
      "metadata": {
        "id": "GDnC-LvlgINy"
      },
      "source": [
        "上のようにキーから値は取り出せますが、値からキーを直接取り出すことはできません。\n",
        "また、リストのようにインデックスを指定して値を取得することはできません。"
      ]
    },
    {
      "cell_type": "code",
      "execution_count": null,
      "metadata": {
        "tags": [
          "raises-exception"
        ],
        "id": "b0ARv4s2gINy"
      },
      "outputs": [],
      "source": [
        "ppap[1]"
      ]
    },
    {
      "cell_type": "markdown",
      "metadata": {
        "id": "l9Pu0ecRgINy"
      },
      "source": [
        "キーが辞書に登録されているかどうかは、演算子 **`in`** を用いて調べることができます。"
      ]
    },
    {
      "cell_type": "code",
      "execution_count": null,
      "metadata": {
        "id": "ua14AgwpgINy"
      },
      "outputs": [],
      "source": [
        "ppap = {'apple': 3, 'pen': 5}\n",
        "'apple' in ppap"
      ]
    },
    {
      "cell_type": "code",
      "execution_count": null,
      "metadata": {
        "id": "OMr6NE2ugINy"
      },
      "outputs": [],
      "source": [
        "'banana' in ppap"
      ]
    },
    {
      "cell_type": "markdown",
      "metadata": {
        "id": "_3FO0jbOgINz"
      },
      "source": [
        "組み込み関数 **`len`** によって、辞書に登録されている要素、キーと値のペア、の数が得られます。"
      ]
    },
    {
      "cell_type": "code",
      "execution_count": null,
      "metadata": {
        "id": "chC8avVegINz"
      },
      "outputs": [],
      "source": [
        "ppap = {'apple': 3, 'pen': 5}\n",
        "len(ppap)"
      ]
    },
    {
      "cell_type": "markdown",
      "metadata": {
        "id": "wnDk00UkgINz"
      },
      "source": [
        "**`del`** 文によって、登録されているキーの要素を削除することができます。具体的には、次のように削除します。\n",
        "\n",
        "---\n",
        "```Python\n",
        "del 辞書[削除したいキー]\n",
        "```\n",
        "---"
      ]
    },
    {
      "cell_type": "code",
      "execution_count": null,
      "metadata": {
        "id": "4Ne-ESWWgINz"
      },
      "outputs": [],
      "source": [
        "ppap = {'apple' : 3, 'pen' : 5}\n",
        "del ppap['pen']\n",
        "ppap"
      ]
    },
    {
      "cell_type": "markdown",
      "metadata": {
        "id": "JmDGQo_AgINz"
      },
      "source": [
        "空のリストと同様に空の辞書を作ることもできます。このような空のデータは繰り返し処理でしばしば使われます。"
      ]
    },
    {
      "cell_type": "code",
      "execution_count": null,
      "metadata": {
        "id": "YZ2BY_MPgINz"
      },
      "outputs": [],
      "source": [
        "empty_d = {}\n",
        "empty_d"
      ]
    },
    {
      "cell_type": "markdown",
      "metadata": {
        "id": "kZRRBNjKgINz"
      },
      "source": [
        "## 練習\n",
        "\n",
        "リスト `list1` が引数として与えられたとき、`list1` の各要素 `value` をキー、` value` の `list1` におけるインデックスをキーに対応する値とした辞書を返す関数 `reverse_lookup` を作成してください。\n",
        "\n",
        "以下のセルの `...` のところを書き換えて `reverse_lookup(list1)` を作成してください。"
      ]
    },
    {
      "cell_type": "code",
      "execution_count": null,
      "metadata": {
        "id": "znVYuo6zgINz"
      },
      "outputs": [],
      "source": [
        "def reverse_lookup(list1):\n",
        "    ..."
      ]
    },
    {
      "cell_type": "markdown",
      "metadata": {
        "id": "fFP5-UtegINz"
      },
      "source": [
        "上のセルで解答を作成した後、以下のセルを実行し、実行結果が `True` になることを確認してください。"
      ]
    },
    {
      "cell_type": "code",
      "execution_count": null,
      "metadata": {
        "id": "-EahMKIJgINz"
      },
      "outputs": [],
      "source": [
        "print(reverse_lookup(['apple', 'pen', 'orange']) == {'apple': 0, 'orange': 2, 'pen': 1})"
      ]
    },
    {
      "cell_type": "markdown",
      "metadata": {
        "id": "_NrihEAVgINz"
      },
      "source": [
        "## 辞書のメソッド\n",
        "辞書のメソッドを紹介しておきます。"
      ]
    },
    {
      "cell_type": "markdown",
      "metadata": {
        "id": "BLilY63BgINz"
      },
      "source": [
        "### キーを指定して値を得るメソッド\n",
        "\n",
        "**`get`** メソッドは、引数として指定したキーが辞書に含まれてる場合にはその値を取得し、\n",
        "指定したキーが含まれていない場合には `None` を返します。\n",
        "`get` を利用することで、エラーを回避し、登録されているかどうかわからないキーを使うことができます。\n",
        "先に説明したキーを括弧、`[...]`、で指定する方法では、\n",
        "辞書にキーが存在しないとエラーとなりプログラムの実行が停止してしまいます。"
      ]
    },
    {
      "cell_type": "code",
      "execution_count": null,
      "metadata": {
        "tags": [
          "raises-exception"
        ],
        "id": "5tBA0PEwgINz"
      },
      "outputs": [],
      "source": [
        "ppap = {'apple' : 3, 'pen' : 5}\n",
        "print('キーappleに対応する値 = ', ppap.get('apple'))\n",
        "print('キーorangeに対応する値 = ', ppap.get('orange'))\n",
        "print('キーorangeに対応する値（エラー） = ', ppap['orange'])"
      ]
    },
    {
      "cell_type": "markdown",
      "metadata": {
        "id": "mjiUohaFgINz"
      },
      "source": [
        "また、`get` に2番目の引数を与えると、その引数の値を「指定したキーが含まれていない場合」に `get` が返す値とすることができます。"
      ]
    },
    {
      "cell_type": "code",
      "execution_count": null,
      "metadata": {
        "id": "QR5U3LeigINz"
      },
      "outputs": [],
      "source": [
        "ppap = {'apple' : 3, 'pen' : 5}\n",
        "print('キーappleに対応する値 = ', ppap.get('apple', -1))\n",
        "print('キーorangeに対応する値 = ', ppap.get('orange', -1))"
      ]
    },
    {
      "cell_type": "markdown",
      "metadata": {
        "id": "NeBtMYgLgINz"
      },
      "source": [
        "### ▲キーがない場合に登録を行う\n",
        "\n",
        "**`setdefault`** メソッドは、\n",
        "指定したキーが辞書に含まれてる場合には、対応する値を返します。\n",
        "キーが含まれていない場合には、2番目の引数として指定した値を返すと同時に、キーに対応する値として登録します。"
      ]
    },
    {
      "cell_type": "code",
      "execution_count": null,
      "metadata": {
        "id": "r4UwRLWqgINz"
      },
      "outputs": [],
      "source": [
        "ppap = {'apple' : 3, 'pen' : 5}\n",
        "print('キーappleに対応する値 = ', ppap.setdefault('apple', 7))\n",
        "print('setdefault(\"apple\", 7)を実行後の辞書 = ', ppap)\n",
        "print('キーorangeに対応する値 = ', ppap.setdefault('orange', 7))\n",
        "print('setdefault(\"orange\", 7)を実行後の辞書 = ', ppap)"
      ]
    },
    {
      "cell_type": "markdown",
      "metadata": {
        "id": "oB0uue2IgINz"
      },
      "source": [
        "上のような `setdefault` を用いた手続きを、`[...]` を用いて書き換えるとたとえば次のようになります。"
      ]
    },
    {
      "cell_type": "code",
      "execution_count": null,
      "metadata": {
        "id": "G_NBjGYTgINz"
      },
      "outputs": [],
      "source": [
        "ppap = {'apple' : 3, 'pen' : 5}\n",
        "if 'apple' not in ppap:\n",
        "    ppap['apple'] = 7\n",
        "print('キーappleに対応する値 = ', ppap['apple'])\n",
        "print('実行後の辞書 = ', ppap)\n",
        "if 'orange' not in ppap:\n",
        "    ppap['orange'] = 7\n",
        "print('キーorangeに対応する値 = ', ppap['orange'])\n",
        "print('実行後の辞書 = ', ppap)"
      ]
    },
    {
      "cell_type": "markdown",
      "metadata": {
        "id": "cslJRNZDgINz"
      },
      "source": [
        "### ▲キーを指定した削除\n",
        "\n",
        "**`pop`** メソッドは指定したキーおよびそれに対応する値を削除し、削除されるキーに対応付けられた値を返します。"
      ]
    },
    {
      "cell_type": "code",
      "execution_count": null,
      "metadata": {
        "id": "vDqR1JTygINz"
      },
      "outputs": [],
      "source": [
        "ppap = {'apple' : 3, 'pen' : 5}\n",
        "print(ppap.pop('pen'))\n",
        "print(ppap)"
      ]
    },
    {
      "cell_type": "markdown",
      "metadata": {
        "id": "ksyUS8__gINz"
      },
      "source": [
        "### ▲全てのキーと値の削除\n",
        "**`clear`** メソッドは全てのキーと値を削除します。その結果、辞書は空となります。"
      ]
    },
    {
      "cell_type": "code",
      "execution_count": null,
      "metadata": {
        "id": "roI7vtgTgINz"
      },
      "outputs": [],
      "source": [
        "ppap = {'apple' : 3, 'pen' : 5}\n",
        "ppap.clear()\n",
        "ppap"
      ]
    },
    {
      "cell_type": "markdown",
      "metadata": {
        "id": "KAlFvNmmgINz"
      },
      "source": [
        "### キーの一覧を得る\n",
        "**`keys`** メソッドはキーの一覧を返します。これはリストのようなものとして扱うことができ、\n",
        "`for` ループと組み合わせて繰り返し処理で利用されます（3-2を参照してください）。\n",
        "以下のように、**`keys`** メソッドが返した結果に関数 `list` を適用すると、\n",
        "通常のリストになります。"
      ]
    },
    {
      "cell_type": "code",
      "execution_count": null,
      "metadata": {
        "id": "68PmWYSOgINz"
      },
      "outputs": [],
      "source": [
        "ppap = {'apple' : 3, 'pen' : 5}\n",
        "list(ppap.keys())"
      ]
    },
    {
      "cell_type": "markdown",
      "metadata": {
        "id": "uQKylWOLgIN2"
      },
      "source": [
        "### 値の一覧を得る\n",
        "**`values`** メソッドはキーに対応する全ての値の一覧を返します。これもリストのようなものとして扱うことができます。"
      ]
    },
    {
      "cell_type": "code",
      "execution_count": null,
      "metadata": {
        "id": "_cjG0IRBgIN2"
      },
      "outputs": [],
      "source": [
        "list(ppap.values())"
      ]
    },
    {
      "cell_type": "markdown",
      "metadata": {
        "id": "lBkgBffVgIN2"
      },
      "source": [
        "### キーと値の一覧を得る\n",
        "**`items`** メソッドはキーとそれに対応する値をタプルにした一覧を返します。 これもタプルを要素とするリストのようなものとして扱うことができ、forループなどで活用します（3-2を参照してください）。"
      ]
    },
    {
      "cell_type": "code",
      "execution_count": null,
      "metadata": {
        "id": "-3NJ4aZpgIN2"
      },
      "outputs": [],
      "source": [
        "list(ppap.items())"
      ]
    },
    {
      "cell_type": "markdown",
      "metadata": {
        "id": "4R51jC5wgIN2"
      },
      "source": [
        "### ▲辞書を複製する\n",
        "**`copy`** メソッドは辞書を複製します。リストの場合と同様に一方の辞書を変更してももう一方の辞書は影響を受けません。"
      ]
    },
    {
      "cell_type": "code",
      "execution_count": null,
      "metadata": {
        "id": "L6OxDYRigIN2"
      },
      "outputs": [],
      "source": [
        "ppap = {'apple': 3, 'pen': 5, 'orange': 7}\n",
        "ppap2 = ppap.copy()\n",
        "ppap['banana'] = 9\n",
        "print(ppap)\n",
        "print(ppap2)"
      ]
    },
    {
      "cell_type": "markdown",
      "metadata": {
        "id": "S1YiRBn7gIN2"
      },
      "source": [
        "### ▲ ` keys`, `values`, `items` の返値\n",
        "`keys`, `values`, `items` メソッドの一連の説明では、返値を「リストのようなもの」と表現してきました。\n",
        "通常のリストとどう違うのでしょうか？\n",
        "\n",
        "次の例では、`ppap` の `keys`, `values`, `items` メソッドの返値をそれぞれ `ks`, `vs`, `itms` に代入し、\n",
        "`print` でそれぞれの内容を表示させています。\n",
        "\n",
        "次いで、`ppap` に新たな要素を加えたのちに、同じ変数の内容を表示させています。\n",
        "1, 2回目の `print` で内容が異なることに注意してください。\n",
        "もとの辞書が更新されると、これらの内容も動的に変わります。  "
      ]
    },
    {
      "cell_type": "code",
      "execution_count": null,
      "metadata": {
        "id": "QI_vOuLmgIN2"
      },
      "outputs": [],
      "source": [
        "ppap = {'apple': 3, 'pen': 5, 'orange': 7}\n",
        "ks = ppap.keys()\n",
        "vs = ppap.values()\n",
        "itms = ppap.items()\n",
        "print(list(ks))\n",
        "print(list(vs))\n",
        "print(list(itms))\n",
        "ppap['kiwi'] = 9\n",
        "print(list(ks))\n",
        "print(list(vs))\n",
        "print(list(itms))"
      ]
    },
    {
      "cell_type": "markdown",
      "metadata": {
        "id": "eCu6QWVwgIN2"
      },
      "source": [
        "## 辞書とリスト"
      ]
    },
    {
      "cell_type": "markdown",
      "metadata": {
        "id": "3Ukk7uOIgIN2"
      },
      "source": [
        "冒頭で述べたように、辞書では値としてあらゆる型のデータを使用できます。\n",
        "すなわち、次のように値としてリストを使用する辞書を作成可能です。\n",
        "リストの要素を参照するには数字インデックスをさらに指定します。"
      ]
    },
    {
      "cell_type": "code",
      "execution_count": null,
      "metadata": {
        "id": "47EzDHE1gIN2"
      },
      "outputs": [],
      "source": [
        "numbers = {'dozens': [10, 20, 40], 'hundreds': [100, 101, 120, 140]}\n",
        "print(numbers['dozens'])\n",
        "print(numbers['dozens'][1])"
      ]
    },
    {
      "cell_type": "markdown",
      "metadata": {
        "id": "VOeivM83gIN2"
      },
      "source": [
        "逆に、辞書を要素とするリストを作成することもできます。"
      ]
    },
    {
      "cell_type": "code",
      "execution_count": null,
      "metadata": {
        "id": "GACbG-JfgIN2"
      },
      "outputs": [],
      "source": [
        "ppap = {'apple': 3, 'pen': 5}\n",
        "pets = {'cat': 3, 'dog': 3, 'elephant': 8}\n",
        "ld = [ppap, pets]\n",
        "print(ld[1])\n",
        "print(ld[1]['dog'])"
      ]
    },
    {
      "cell_type": "markdown",
      "metadata": {
        "id": "UpZKK1T2gIN3"
      },
      "source": [
        "## 練習\n",
        "\n",
        "辞書 `dic1` と文字列 `str1` が引数として与えられたとき、\n",
        "以下のように `dic1` を変更する関数 `handle_collision` を作成してください。\n",
        "ただし、`dic1` のキーは整数、キーに対応する値は文字列を要素とするリストとします。\n",
        "\n",
        "1. `dic1` に `str1` の長さ `n` がキーとして登録されていない場合、`str1` のみを要素とするリスト `ls` を作成し、 `dic1` にキー `n`、`n` に対応する値 `ls` を登録します。\n",
        "2. `dic1` に `str1` の長さ `n` がキーとして登録されている場合、そのキーに対応する値（リスト）に `str1` を追加します。\n",
        "\n",
        "以下のセルの `...` のところを書き換えて `handle_collision(dic1, str1)` を作成してください。"
      ]
    },
    {
      "cell_type": "code",
      "execution_count": null,
      "metadata": {
        "id": "qz95Vy8pgIN3"
      },
      "outputs": [],
      "source": [
        "def handle_collision(dic1, str1):\n",
        "    ..."
      ]
    },
    {
      "cell_type": "markdown",
      "metadata": {
        "id": "WztO60Y0gIN3"
      },
      "source": [
        "上のセルで解答を作成した後、以下のセルを実行し、実行結果が `True` になることを確認してください。"
      ]
    },
    {
      "cell_type": "code",
      "execution_count": null,
      "metadata": {
        "id": "SdFqfQLhgIN3"
      },
      "outputs": [],
      "source": [
        "dic1_orig = {3: ['ham', 'egg'], 6: ['coffee', 'brandy'], 9: ['port wine'], 15: ['curried chicken']}\n",
        "dic1_result = {3: ['ham', 'egg', 'tea'], 6: ['coffee', 'brandy'], 9: ['port wine'], 15: ['curried chicken']}\n",
        "handle_collision(dic1_orig, 'tea')\n",
        "print(dic1_orig == dic1_result)"
      ]
    },
    {
      "cell_type": "markdown",
      "metadata": {
        "id": "82GUU0ftgIN3"
      },
      "source": [
        "## 練習の解答"
      ]
    },
    {
      "cell_type": "code",
      "execution_count": null,
      "metadata": {
        "id": "ZvaEI98YgIN3"
      },
      "outputs": [],
      "source": [
        "def reverse_lookup(list1):\n",
        "    dic1 = {}  # 空の辞書を作成する\n",
        "    for value in list1:\n",
        "        dic1[value] = list1.index(value)\n",
        "    return dic1\n",
        "#reverse_lookup(['apple', 'pen', 'orange'])"
      ]
    },
    {
      "cell_type": "code",
      "execution_count": null,
      "metadata": {
        "id": "on3NNNT5gIN3"
      },
      "outputs": [],
      "source": [
        "def handle_collision(dic1, str1):\n",
        "    if dic1.get(len(str1)) is None:\n",
        "        ls = [str1]\n",
        "    else:\n",
        "        ls = dic1[len(str1)]\n",
        "        ls.append(str1)\n",
        "    dic1[len(str1)] = ls\n",
        "#handle_collision({3: ['ham', 'egg'], 6: ['coffee', 'brandy'], 9: ['port wine'], 15: ['curried chicken']}, 'tea')"
      ]
    },
    {
      "cell_type": "code",
      "execution_count": 3,
      "metadata": {
        "id": "cLZTRc37gIN3",
        "outputId": "f362286d-d232-4bee-ab26-360a86ac9cb5",
        "colab": {
          "base_uri": "https://localhost:8080/"
        }
      },
      "outputs": [
        {
          "output_type": "stream",
          "name": "stdout",
          "text": [
            "151.1\n",
            "{}\n"
          ]
        }
      ],
      "source": [
        "dict_angle = {\n",
        "'Monostichous':47.3,\n",
        "'Lucas':99.5,\n",
        "'Bijugate':68.8,\n",
        "'Fibonacci':137.5,\n",
        "'Fibonacci3':137.3,\n",
        "'Fibonacci6':137.6,\n",
        "'Anomalous':151.1,\n",
        "'Spiro_distichous':167.4,\n",
        "'Distichous':180,\n",
        "'Spiro_decussate':83.7,\n",
        "'Decussate':90,\n",
        "'Multijugate':45.8,\n",
        "'Tricussate':60,\n",
        "'Whorled':45\n",
        "}\n",
        "print(dict_angle['Anomalous'])\n",
        "\n",
        "def print_name_value(_str):\n",
        "    # print('{}: {}'.format(_str, eval(_str)))\n",
        "    print(format(_str))\n",
        "\n",
        "hoge = 0\n",
        "print_name_value('hoge')"
      ]
    }
  ],
  "metadata": {
    "kernelspec": {
      "display_name": "Python 3",
      "language": "python",
      "name": "python3"
    },
    "language_info": {
      "name": "python"
    },
    "colab": {
      "provenance": []
    }
  },
  "nbformat": 4,
  "nbformat_minor": 0
}